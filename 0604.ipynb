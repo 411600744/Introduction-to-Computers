{
  "nbformat": 4,
  "nbformat_minor": 0,
  "metadata": {
    "colab": {
      "provenance": [],
      "authorship_tag": "ABX9TyPsvL8wfh2cRo1RStNmU9Li",
      "include_colab_link": true
    },
    "kernelspec": {
      "name": "python3",
      "display_name": "Python 3"
    },
    "language_info": {
      "name": "python"
    }
  },
  "cells": [
    {
      "cell_type": "markdown",
      "metadata": {
        "id": "view-in-github",
        "colab_type": "text"
      },
      "source": [
        "<a href=\"https://colab.research.google.com/github/411600744/Introduction-to-Computers/blob/main/0604.ipynb\" target=\"_parent\"><img src=\"https://colab.research.google.com/assets/colab-badge.svg\" alt=\"Open In Colab\"/></a>"
      ]
    },
    {
      "cell_type": "code",
      "execution_count": 2,
      "metadata": {
        "colab": {
          "base_uri": "https://localhost:8080/"
        },
        "id": "No52FLZElgDW",
        "outputId": "fed2fb93-5987-4cd9-a0bf-c241cf39f88f"
      },
      "outputs": [
        {
          "output_type": "execute_result",
          "data": {
            "text/plain": [
              "False"
            ]
          },
          "metadata": {},
          "execution_count": 2
        }
      ],
      "source": [
        "(5+9==8+9)"
      ]
    },
    {
      "cell_type": "code",
      "source": [
        "password = int(input(\"請輸入密碼\"))\n",
        "if password == 1234:\n",
        "  print(\"密碼正確\")\n",
        "else:\n",
        "  print(\"密碼不正確\")"
      ],
      "metadata": {
        "colab": {
          "base_uri": "https://localhost:8080/"
        },
        "id": "lytL2I71rl4v",
        "outputId": "f57c78bd-fcb1-4db0-978d-6e46c82e8dc5"
      },
      "execution_count": 9,
      "outputs": [
        {
          "output_type": "stream",
          "name": "stdout",
          "text": [
            "請輸入密碼000\n",
            "密碼不正確\n"
          ]
        }
      ]
    },
    {
      "cell_type": "code",
      "source": [
        "rain = input(\"今天會下雨嗎\")\n",
        "if rain == \"y\":\n",
        " print(\"出門記得帶傘!\")\n",
        "elif rain == \"Y\":\n",
        " print(\"出門記得帶傘!\")\n",
        "elif rain == \"n\":\n",
        " print(\"出門不用帶傘\")\n",
        "elif rain == \"N\":\n",
        " print(\"出門不用帶傘\")\n",
        "else:\n",
        " print(\"請重新輸入\")\n"
      ],
      "metadata": {
        "colab": {
          "base_uri": "https://localhost:8080/"
        },
        "id": "LhFweFSErl2W",
        "outputId": "d2550f17-249d-43cf-b5d3-75c8bebac228"
      },
      "execution_count": 18,
      "outputs": [
        {
          "output_type": "stream",
          "name": "stdout",
          "text": [
            "今天會下雨嗎Y\n",
            "出門記得帶傘!\n"
          ]
        }
      ]
    },
    {
      "cell_type": "code",
      "source": [
        "number = int(input(\"請輸入正整數\"))\n",
        "if (number%2) == 0:\n",
        " print(number,\"為偶數!\")\n",
        "else:\n",
        " print(number,\"為奇數!\") "
      ],
      "metadata": {
        "colab": {
          "base_uri": "https://localhost:8080/"
        },
        "id": "MEvwDbX_rl0E",
        "outputId": "c1db8a42-a830-4923-d6b9-54ebb3b2fd69"
      },
      "execution_count": 21,
      "outputs": [
        {
          "output_type": "stream",
          "name": "stdout",
          "text": [
            "請輸入正整數3\n",
            "3 為奇數!\n"
          ]
        }
      ]
    },
    {
      "cell_type": "code",
      "source": [
        "t = float(input(\"請輸入體溫:\"))\n",
        "if t >= 37.5:\n",
        " print(\"體溫過高!\")\n",
        "elif 37 <= t <= 37.4:\n",
        "  print(\"體溫略高!\")\n",
        "elif 34 <= t <= 36.9:\n",
        "  print(\"體溫正常!\")\n",
        "else:\n",
        "  print(\"體溫異常,請重新測量!\")\n"
      ],
      "metadata": {
        "colab": {
          "base_uri": "https://localhost:8080/"
        },
        "id": "rHcbEFUwrlxh",
        "outputId": "110d5fc8-d539-40d1-e19f-49886e0d5f0d"
      },
      "execution_count": 30,
      "outputs": [
        {
          "output_type": "stream",
          "name": "stdout",
          "text": [
            "請輸入體溫:36.9\n",
            "體溫正常!\n"
          ]
        }
      ]
    },
    {
      "cell_type": "code",
      "source": [
        "score = int(input(\"請輸入成績:\"))\n",
        "if score >= 90:\n",
        " print(\"A\")\n",
        "elif 80 <= score <= 89:\n",
        "  print(\"B\")\n",
        "elif 70 <= score <= 79:\n",
        "  print(\"C\")\n",
        "elif 60 <= score <= 69:\n",
        "  print(\"D\")\n",
        "else:\n",
        "  print(\"E\")"
      ],
      "metadata": {
        "colab": {
          "base_uri": "https://localhost:8080/"
        },
        "id": "Y3jXu0vErlvG",
        "outputId": "fa57e23e-4b8a-4f19-eb2b-3b19b22661e8"
      },
      "execution_count": 36,
      "outputs": [
        {
          "output_type": "stream",
          "name": "stdout",
          "text": [
            "請輸入成績:65\n",
            "D\n"
          ]
        }
      ]
    },
    {
      "cell_type": "code",
      "source": [
        "month = int(input(\"請輸入月份:\"))\n",
        "if month == 3 or month == 4 or month ==5:\n",
        " print(month,\"月是春天!\")\n",
        "elif month == 6 or month == 7 or month ==8:\n",
        "  print(month,\"月是夏天!\")\n",
        "elif month == 9 or month == 10 or month ==11:\n",
        " print(month,\"月是秋天!\")\n",
        "elif month == 12 or month == 1 or month ==2:\n",
        " print(month,\"月是冬天!\")\n",
        "else:\n",
        "  print(\"月份不再範圍內!\")"
      ],
      "metadata": {
        "colab": {
          "base_uri": "https://localhost:8080/"
        },
        "id": "1N0H1V7Gq6aO",
        "outputId": "1205dad4-42a3-4a56-e83c-f5beb1e6b4f7"
      },
      "execution_count": 54,
      "outputs": [
        {
          "output_type": "stream",
          "name": "stdout",
          "text": [
            "請輸入月份:66\n",
            "月份不再範圍內!\n"
          ]
        }
      ]
    },
    {
      "cell_type": "code",
      "source": [
        "income = float(input(\"請輸入今年收入淨額:\"))\n",
        "if income >= 2000000:\n",
        "  tax = income * 0.3\n",
        "  print(\"付稅金額為:\",tax,\"元\")\n",
        "elif income >= 1000000:\n",
        "  tax =  income* 0.21\n",
        "  print(\"付稅金額為:\",tax,\"元\")\n",
        "elif income >= 600000:\n",
        "  tax = income * 0.13\n",
        "  print(\"付稅金額為:\",tax,\"元\")\n",
        "elif income >= 300000:\n",
        "  tax = income * 0.06\n",
        "  print(\"付稅金額為:\",tax,\"元\")\n",
        "else:\n",
        "  tax = 0\n",
        "  print(\"付稅金額為:0元\")"
      ],
      "metadata": {
        "colab": {
          "base_uri": "https://localhost:8080/"
        },
        "id": "Lcvz8K_qq6Xu",
        "outputId": "51ae2a8b-270e-4e23-dfd0-256747e5c772"
      },
      "execution_count": 87,
      "outputs": [
        {
          "output_type": "stream",
          "name": "stdout",
          "text": [
            "請輸入今年收入淨額:4000000\n",
            "付稅金額為: 1200000.0 元\n"
          ]
        }
      ]
    },
    {
      "cell_type": "code",
      "source": [
        "price = float(input(\"請輸入消費金額\"))\n",
        "if price >= 100000:\n",
        " discount = price * 0.8\n",
        " print(\"八折\",discount,\"元\")\n",
        "elif price >= 50000:\n",
        " discount = price * 0.85\n",
        " print(\"八五折\",discount,\"元\")\n",
        "elif price >= 30000:\n",
        " discount = price * 0.9\n",
        " print(\"九折\",discount,\"元\")\n",
        "elif price >= 10000:\n",
        " discount = price * 0.95\n",
        " print(\"九五折\",discount,\"元\")\n",
        "else:\n",
        "  print(\"沒打折\",price,\"元\")\n",
        "  \n"
      ],
      "metadata": {
        "colab": {
          "base_uri": "https://localhost:8080/"
        },
        "id": "nEn9R289q6R5",
        "outputId": "c5a0da1f-0c4f-4a87-c8f4-c8c327ee308e"
      },
      "execution_count": 94,
      "outputs": [
        {
          "output_type": "stream",
          "name": "stdout",
          "text": [
            "請輸入消費金額20000\n",
            "九五折 19000.0 元\n"
          ]
        }
      ]
    },
    {
      "cell_type": "code",
      "source": [
        "list1 = range(3,15,3)"
      ],
      "metadata": {
        "id": "JOommPmxq6PG"
      },
      "execution_count": 99,
      "outputs": []
    },
    {
      "cell_type": "code",
      "source": [
        "list(list1)"
      ],
      "metadata": {
        "colab": {
          "base_uri": "https://localhost:8080/"
        },
        "id": "Q2nfDYhqq6MM",
        "outputId": "bc84727f-4a0a-4cc4-f954-e76d37f5abeb"
      },
      "execution_count": 101,
      "outputs": [
        {
          "output_type": "execute_result",
          "data": {
            "text/plain": [
              "[3, 6, 9, 12]"
            ]
          },
          "metadata": {},
          "execution_count": 101
        }
      ]
    },
    {
      "cell_type": "code",
      "source": [
        "a = int(input(\"請輸入一個正整數\"))\n",
        "for n in range(1,a+1):\n",
        "  print(n, end=\",\")"
      ],
      "metadata": {
        "colab": {
          "base_uri": "https://localhost:8080/"
        },
        "id": "BITemsOYq6JG",
        "outputId": "06f9b0e6-9b87-469b-db7a-0ddea3d3286a"
      },
      "execution_count": 103,
      "outputs": [
        {
          "output_type": "stream",
          "name": "stdout",
          "text": [
            "請輸入一個正整數9\n",
            "1,2,3,4,5,6,7,8,9,"
          ]
        }
      ]
    },
    {
      "cell_type": "code",
      "source": [
        "b = int(input(\"請輸入一個正整數:\"))\n",
        "sum = 0\n",
        "for n in range(b+1):\n",
        "  sum = sum+n\n",
        "print(\"1到\",str(b),\"的整數和為\",str(sum))\n",
        "\n",
        "\n"
      ],
      "metadata": {
        "colab": {
          "base_uri": "https://localhost:8080/"
        },
        "id": "LKKawNx-q6GO",
        "outputId": "9c264cd1-a6fa-4d72-e6f4-8eb2f1e72377"
      },
      "execution_count": 115,
      "outputs": [
        {
          "output_type": "stream",
          "name": "stdout",
          "text": [
            "請輸入一個正整數:10\n",
            "1到 10 的整數和為 55\n"
          ]
        }
      ]
    },
    {
      "cell_type": "code",
      "source": [
        "c = int(input(\"請輸入一個正整數:\"))\n",
        "sum = 0\n",
        "for n in range(c+1):\n",
        "  sum = sum+n\n",
        "  print(\"1到\",str(c),\"的整數和為\",str(sum))\n"
      ],
      "metadata": {
        "colab": {
          "base_uri": "https://localhost:8080/"
        },
        "id": "hPFL4MWqq6DQ",
        "outputId": "d01020f6-2ae9-4f92-ed51-ed4e27118476"
      },
      "execution_count": 112,
      "outputs": [
        {
          "output_type": "stream",
          "name": "stdout",
          "text": [
            "請輸入一個正整數:10\n",
            "1到 10 的整數合為 0\n",
            "1到 10 的整數合為 1\n",
            "1到 10 的整數合為 3\n",
            "1到 10 的整數合為 6\n",
            "1到 10 的整數合為 10\n",
            "1到 10 的整數合為 15\n",
            "1到 10 的整數合為 21\n",
            "1到 10 的整數合為 28\n",
            "1到 10 的整數合為 36\n",
            "1到 10 的整數合為 45\n",
            "1到 10 的整數合為 55\n"
          ]
        }
      ]
    },
    {
      "cell_type": "code",
      "source": [
        "d = int(input(\"請輸入一個正整數:\"))\n",
        "sum = 0\n",
        "for n in range(d+1):\n",
        " sum = sum+n\n",
        " print(\"1到\",str(d),\"的整數和為\",str(sum))"
      ],
      "metadata": {
        "colab": {
          "base_uri": "https://localhost:8080/"
        },
        "id": "PGwTBUR4q6Ao",
        "outputId": "fa5d3f67-4c02-46c4-95c1-c00bfff70377"
      },
      "execution_count": 118,
      "outputs": [
        {
          "output_type": "stream",
          "name": "stdout",
          "text": [
            "請輸入一個正整數:10\n",
            "1到 10 的整數和為 55\n"
          ]
        }
      ]
    },
    {
      "cell_type": "code",
      "source": [],
      "metadata": {
        "id": "BSt0jk5GHdc4"
      },
      "execution_count": null,
      "outputs": []
    },
    {
      "cell_type": "code",
      "source": [],
      "metadata": {
        "id": "9KR3zm0VHdae"
      },
      "execution_count": null,
      "outputs": []
    },
    {
      "cell_type": "code",
      "source": [
        "print(\"你好世界\")"
      ],
      "metadata": {
        "colab": {
          "base_uri": "https://localhost:8080/"
        },
        "id": "HKMQvRKiq59m",
        "outputId": "45a88d6a-3f28-4b2b-aa06-4888ef733462"
      },
      "execution_count": 119,
      "outputs": [
        {
          "output_type": "stream",
          "name": "stdout",
          "text": [
            "你好世界\n"
          ]
        }
      ]
    },
    {
      "cell_type": "code",
      "source": [
        "456+789\n"
      ],
      "metadata": {
        "colab": {
          "base_uri": "https://localhost:8080/"
        },
        "id": "P1Ns0t1oq56u",
        "outputId": "5001cf02-8f6b-4688-b216-667254eb5f72"
      },
      "execution_count": 120,
      "outputs": [
        {
          "output_type": "execute_result",
          "data": {
            "text/plain": [
              "1245"
            ]
          },
          "metadata": {},
          "execution_count": 120
        }
      ]
    },
    {
      "cell_type": "code",
      "source": [
        "a = int(input(\"請輸入一個整數\"))\n",
        "sum = 0\n",
        "for n in range(a+1):\n",
        " sum = sum + n \n",
        "print(\"1到\",str(a),\"的整數和為\",str(sum))"
      ],
      "metadata": {
        "colab": {
          "base_uri": "https://localhost:8080/"
        },
        "id": "X1SsoDKXq53u",
        "outputId": "3b1ddc97-f57c-4dbe-e596-16d1bdb439e3"
      },
      "execution_count": 123,
      "outputs": [
        {
          "output_type": "stream",
          "name": "stdout",
          "text": [
            "請輸入一個整數100\n",
            "1到 100 的整數和為 5050\n"
          ]
        }
      ]
    },
    {
      "cell_type": "code",
      "source": [
        "number = int(input(\"請輸入一個整數:\"))\n",
        "if number >= 0 and (number%2) == 0:\n",
        " print(number,\"是偶數\")\n",
        "elif (number%2) != 0:\n",
        " print(number,\"是奇數\")\n",
        "else:\n",
        "  print(\"輸入錯誤!\")"
      ],
      "metadata": {
        "colab": {
          "base_uri": "https://localhost:8080/"
        },
        "id": "I_JvHrowq51F",
        "outputId": "77c4156c-8818-4951-9247-79385e3647b5"
      },
      "execution_count": 130,
      "outputs": [
        {
          "output_type": "stream",
          "name": "stdout",
          "text": [
            "請輸入一個整數:-10\n",
            "輸入錯誤!\n"
          ]
        }
      ]
    },
    {
      "cell_type": "code",
      "source": [
        "month = int(input(\"請輸入月份\"))\n",
        "if month > 0 and month == 1 or month == 2 or month == 3:\n",
        "  print(month,\"是春天\")\n",
        "elif month > 0 and month == 4 or month == 5 or month == 6:\n",
        "  print(month,\"是夏天\")\n",
        "elif month > 0 and month == 7 or month == 8 or month == 9:\n",
        "  print(month,\"是秋天\")\n",
        "elif month > 0 and month == 10 or month == 11 or month == 12:\n",
        "  print(month,\"是冬天\")\n",
        "else:\n",
        "  print(\"輸入錯誤\")"
      ],
      "metadata": {
        "colab": {
          "base_uri": "https://localhost:8080/"
        },
        "id": "czORfIJQq5yG",
        "outputId": "0a384811-eb6c-4aaf-9597-bdd0cfe6f010"
      },
      "execution_count": 138,
      "outputs": [
        {
          "output_type": "stream",
          "name": "stdout",
          "text": [
            "請輸入月份-2\n",
            "輸入錯誤\n"
          ]
        }
      ]
    },
    {
      "cell_type": "code",
      "source": [
        "year = int(input(\"請輸入年分\"))\n",
        "if (year%4) == 0 and (year%100) != 0:\n",
        "  print(year,\"年份為閏年\")\n",
        "elif (year%100) ==0 and (year%400) == 0:\n",
        "  print(year,\"年份為閏年\")\n",
        "else:\n",
        "  print(year,\"年份為平年\")"
      ],
      "metadata": {
        "colab": {
          "base_uri": "https://localhost:8080/"
        },
        "id": "oTN2GjI9q5u_",
        "outputId": "ba6bfca3-7fbb-4288-86db-1c0196be137e"
      },
      "execution_count": 142,
      "outputs": [
        {
          "output_type": "stream",
          "name": "stdout",
          "text": [
            "請輸入年分2100\n",
            "2100 年份為平年\n"
          ]
        }
      ]
    },
    {
      "cell_type": "code",
      "source": [
        "身高=int(input(\"請輸入您的身高(cm)\"))\n",
        "體重=int(input(\"請輸入您的體重(kg)\"))\n",
        "BMI=體重/(身高/100)**2\n",
        "BMI=(round(BMI,2))\n",
        "print(\"身高\",身高,\"體重\",體重,\"BMI\",BMI)"
      ],
      "metadata": {
        "colab": {
          "base_uri": "https://localhost:8080/"
        },
        "id": "aoFRasHdq5sd",
        "outputId": "6f7df433-f7a5-4a4a-81fa-a82de54c3819"
      },
      "execution_count": 145,
      "outputs": [
        {
          "output_type": "stream",
          "name": "stdout",
          "text": [
            "請輸入您的身高(cm)175\n",
            "請輸入您的體重(kg)80\n",
            "身高 175 體重 80 BMI 26.12\n"
          ]
        }
      ]
    },
    {
      "cell_type": "code",
      "source": [],
      "metadata": {
        "id": "mQ-CMpT5q5qA"
      },
      "execution_count": null,
      "outputs": []
    },
    {
      "cell_type": "code",
      "source": [],
      "metadata": {
        "id": "Lt6t0vUlq5nm"
      },
      "execution_count": null,
      "outputs": []
    },
    {
      "cell_type": "code",
      "source": [],
      "metadata": {
        "id": "frt4rX7Zq5lG"
      },
      "execution_count": null,
      "outputs": []
    },
    {
      "cell_type": "code",
      "source": [],
      "metadata": {
        "id": "brXTBwhTq5iW"
      },
      "execution_count": null,
      "outputs": []
    },
    {
      "cell_type": "code",
      "source": [],
      "metadata": {
        "id": "e6UaR0O0q5fo"
      },
      "execution_count": null,
      "outputs": []
    },
    {
      "cell_type": "code",
      "source": [],
      "metadata": {
        "id": "nKkbCvd0q5dG"
      },
      "execution_count": null,
      "outputs": []
    },
    {
      "cell_type": "code",
      "source": [],
      "metadata": {
        "id": "-bJS1Zy-q5an"
      },
      "execution_count": null,
      "outputs": []
    },
    {
      "cell_type": "code",
      "source": [],
      "metadata": {
        "id": "0pWIDAGiq5YS"
      },
      "execution_count": null,
      "outputs": []
    },
    {
      "cell_type": "code",
      "source": [],
      "metadata": {
        "id": "lP90aZ4-q5Vn"
      },
      "execution_count": null,
      "outputs": []
    },
    {
      "cell_type": "code",
      "source": [],
      "metadata": {
        "id": "Ks3EtRnSq5Qx"
      },
      "execution_count": null,
      "outputs": []
    },
    {
      "cell_type": "code",
      "source": [],
      "metadata": {
        "id": "bDSlQ0iDq5OO"
      },
      "execution_count": null,
      "outputs": []
    },
    {
      "cell_type": "code",
      "source": [],
      "metadata": {
        "id": "OTgbp_ZXq5Lm"
      },
      "execution_count": null,
      "outputs": []
    },
    {
      "cell_type": "code",
      "source": [],
      "metadata": {
        "id": "b3-6uV4Cq5JW"
      },
      "execution_count": null,
      "outputs": []
    },
    {
      "cell_type": "code",
      "source": [],
      "metadata": {
        "id": "PMDwaOCBq5G-"
      },
      "execution_count": null,
      "outputs": []
    },
    {
      "cell_type": "code",
      "source": [],
      "metadata": {
        "id": "6lNQ-9Iaq5Eh"
      },
      "execution_count": null,
      "outputs": []
    },
    {
      "cell_type": "code",
      "source": [],
      "metadata": {
        "id": "BJWuoBe8q5CF"
      },
      "execution_count": null,
      "outputs": []
    },
    {
      "cell_type": "code",
      "source": [],
      "metadata": {
        "id": "ebs50j9Sq4_f"
      },
      "execution_count": null,
      "outputs": []
    }
  ]
}