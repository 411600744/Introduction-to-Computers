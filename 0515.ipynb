{
  "nbformat": 4,
  "nbformat_minor": 0,
  "metadata": {
    "colab": {
      "provenance": [],
      "authorship_tag": "ABX9TyOo4maZyyigjb7rjjsQZmwR",
      "include_colab_link": true
    },
    "kernelspec": {
      "name": "python3",
      "display_name": "Python 3"
    },
    "language_info": {
      "name": "python"
    }
  },
  "cells": [
    {
      "cell_type": "markdown",
      "metadata": {
        "id": "view-in-github",
        "colab_type": "text"
      },
      "source": [
        "<a href=\"https://colab.research.google.com/github/411600744/Introduction-to-Computers/blob/main/0515.ipynb\" target=\"_parent\"><img src=\"https://colab.research.google.com/assets/colab-badge.svg\" alt=\"Open In Colab\"/></a>"
      ]
    },
    {
      "cell_type": "code",
      "execution_count": null,
      "metadata": {
        "colab": {
          "base_uri": "https://localhost:8080/"
        },
        "id": "NcJLH1LQ8m4S",
        "outputId": "ff04c0f9-8a8f-401d-a19e-2076a141e735"
      },
      "outputs": [
        {
          "output_type": "stream",
          "name": "stdout",
          "text": [
            "今天會下雨嗎?y\n",
            "出門記得帶傘\n"
          ]
        }
      ],
      "source": [
        "rain=input(\"今天會下雨嗎?\")\n",
        "if rain == \"Y\" :\n",
        "  print(\"出門記得帶傘\")\n",
        "elif rain == \"y\" :\n",
        "  print(\"出門記得帶傘\")\n",
        "elif rain == \"n\" :\n",
        "  print(\"出門記得帶傘\")\n",
        "elif rain == \"N\" :\n",
        "  print(\"出門記得帶傘\")\n",
        "else :\n",
        "  print(\"請重新輸入\")\n",
        "     "
      ]
    },
    {
      "cell_type": "code",
      "source": [
        "t=int(input(\"請輸入體溫:\"))\n",
        "if t >= 37.5 :\n",
        "  print(\"體溫過高\")\n",
        "elif 37<=t<=37.4 :\n",
        "  print(\"體溫略高\")\n",
        "elif 34<=t<=36.9 :\n",
        "  print(\"體溫正常\")\n",
        "else :\n",
        "  print(\"體溫異常,請重新量測\")"
      ],
      "metadata": {
        "colab": {
          "base_uri": "https://localhost:8080/"
        },
        "id": "Fl02S2dmQa_i",
        "outputId": "d658fc9e-8ace-464c-e22b-7f9c87a8dda9"
      },
      "execution_count": null,
      "outputs": [
        {
          "output_type": "stream",
          "name": "stdout",
          "text": [
            "請輸入體溫:37\n",
            "體溫略高\n"
          ]
        }
      ]
    },
    {
      "cell_type": "code",
      "source": [
        "s=int(input(\"請輸入成績:\"))\n",
        "if s >= 90 :\n",
        "  print(\"A\")\n",
        "elif s >= 80 :\n",
        "  print(\"B\")\n",
        "elif s >= 70 :\n",
        "  print(\"C\")\n",
        "elif s >= 60 :\n",
        "  print(\"D\")\n",
        "else :\n",
        "  print(\"E\")\n",
        "     "
      ],
      "metadata": {
        "colab": {
          "base_uri": "https://localhost:8080/"
        },
        "id": "L0Pz2guJQhV6",
        "outputId": "2cfe46e0-3183-446b-8f08-a36c73281ddd"
      },
      "execution_count": null,
      "outputs": [
        {
          "output_type": "stream",
          "name": "stdout",
          "text": [
            "請輸入成績:50\n",
            "E\n"
          ]
        }
      ]
    },
    {
      "cell_type": "code",
      "source": [
        "month=int(input(\"請輸入月份:\"))\n",
        "if month in [3,4,5] :\n",
        "  season=\"春天\"\n",
        "elif month in [6,7,8] :\n",
        "  season=\"夏天\"\n",
        "elif month in [9,10,11] :\n",
        "  season=\"秋天\"\n",
        "elif month in [12,1,2] :\n",
        "  season=\"冬天\"\n",
        "else :\n",
        "  season=\"月份不在範圍內\"\n",
        "print(f\"{month}月是{season}\")"
      ],
      "metadata": {
        "colab": {
          "base_uri": "https://localhost:8080/"
        },
        "id": "KqtJJauZQkSA",
        "outputId": "58cb6229-07f2-4f59-fde6-db5b57fde338"
      },
      "execution_count": null,
      "outputs": [
        {
          "output_type": "stream",
          "name": "stdout",
          "text": [
            "請輸入月份:5\n",
            "5月是春天\n"
          ]
        }
      ]
    },
    {
      "cell_type": "code",
      "source": [
        "income=float(input(\"請輸入今年收入淨額:\"))\n",
        "if income >= 2000000 :\n",
        "  tax = income * 0.3\n",
        "elif income >= 1000000 :\n",
        "  tax = income * 0.21\n",
        "elif income >= 600000 :\n",
        "  tax = income * 0.13\n",
        "elif income >= 300000 :\n",
        "  tax = income * 0.06\n",
        "else :\n",
        "  tax=0\n",
        "print(f\"付稅金額為:{tax}元\")"
      ],
      "metadata": {
        "colab": {
          "base_uri": "https://localhost:8080/"
        },
        "id": "ajIQFvg_QnVY",
        "outputId": "2bd44ee4-35c2-491b-b372-34c02e983a39"
      },
      "execution_count": null,
      "outputs": [
        {
          "output_type": "stream",
          "name": "stdout",
          "text": [
            "請輸入今年收入淨額:60000000000\n",
            "付稅金額為:18000000000.0元\n"
          ]
        }
      ]
    }
  ]
}